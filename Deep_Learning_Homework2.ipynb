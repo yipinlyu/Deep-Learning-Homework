{
  "nbformat": 4,
  "nbformat_minor": 0,
  "metadata": {
    "colab": {
      "name": "Deep Learning Homework2.ipynb",
      "version": "0.3.2",
      "provenance": [],
      "collapsed_sections": []
    },
    "kernelspec": {
      "name": "python3",
      "display_name": "Python 3"
    },
    "accelerator": "TPU"
  },
  "cells": [
    {
      "metadata": {
        "id": "DZ0jOJ5C7f2z",
        "colab_type": "text"
      },
      "cell_type": "markdown",
      "source": [
        "# Homework 2"
      ]
    },
    {
      "metadata": {
        "id": "5JfsoQbzBqVF",
        "colab_type": "code",
        "colab": {}
      },
      "cell_type": "code",
      "source": [
        "!pip install -q pydot \n",
        "!apt-get install graphviz\n",
        "!pip install -q boto3"
      ],
      "execution_count": 0,
      "outputs": []
    },
    {
      "metadata": {
        "id": "GYOT-mnVBq93",
        "colab_type": "code",
        "colab": {}
      },
      "cell_type": "code",
      "source": [
        "from keras.models import  Sequential, Model, model_from_json, load_model\n",
        "from keras.layers import Input, Dense, Conv2D, MaxPooling2D, UpSampling2D\n",
        "from keras import regularizers\n",
        "from keras import backend as K\n",
        "from keras.preprocessing import sequence\n",
        "import tensorflow as tf\n",
        "import numpy as np\n",
        "import copy\n",
        "import pandas as pd\n",
        "import matplotlib.pyplot as plt\n",
        "from keras.layers.core import Dense, Dropout, Activation, Lambda,Flatten, Reshape\n",
        "from keras.optimizers import SGD, Adam, RMSprop\n",
        "from keras.utils import np_utils\n",
        "from keras.regularizers import l2\n",
        "from keras.layers import Input, ELU, LSTM, Embedding, Convolution2D, MaxPooling2D, \\\n",
        "BatchNormalization, Convolution1D, MaxPooling1D, concatenate\n",
        "from keras.layers.convolutional import Conv2D, MaxPooling2D, ZeroPadding2D, AveragePooling2D\n",
        "from keras.callbacks import EarlyStopping\n",
        "from keras.preprocessing.image import ImageDataGenerator\n",
        "from keras.layers.normalization import BatchNormalization\n",
        "from keras import backend as K\n",
        "from PIL import Image\n",
        "from keras.applications import VGG16\n",
        "from keras.applications.vgg16 import preprocess_input\n",
        "from sklearn.model_selection import train_test_split\n",
        "from keras.layers import Bidirectional, SimpleRNN\n",
        "\n",
        "import pandas as pd\n",
        "import numpy as np\n",
        "import boto3\n",
        "import re, os\n",
        "from string import printable\n",
        "import pydot\n",
        "\n",
        "from pathlib import Path\n",
        "import json\n",
        "\n",
        "import warnings\n",
        "warnings.filterwarnings(\"ignore\")\n",
        "\n",
        "from tensorflow.python.client import device_lib\n",
        "\n",
        "from keras.utils import plot_model # pydot, graphviz are dependencies\n",
        "from keras.utils.vis_utils import model_to_dot\n",
        "from keras.callbacks import TensorBoard, ModelCheckpoint\n",
        "\n",
        "\n",
        "# -Plot libs-\n",
        "import matplotlib.pyplot as plt\n",
        "from IPython.display import SVG, display\n",
        "\n",
        "import matplotlib.pyplot as plt\n",
        "%matplotlib inline"
      ],
      "execution_count": 0,
      "outputs": []
    },
    {
      "metadata": {
        "id": "MeqcmeTs7-tb",
        "colab_type": "text"
      },
      "cell_type": "markdown",
      "source": [
        "## 1. Autoencoder"
      ]
    },
    {
      "metadata": {
        "id": "tdFNBnBYWKIg",
        "colab_type": "text"
      },
      "cell_type": "markdown",
      "source": [
        "First, I loaded the mnist fashion dataset."
      ]
    },
    {
      "metadata": {
        "id": "sCntGxTC4pWc",
        "colab_type": "code",
        "outputId": "e82914c1-6d47-4887-ccbc-3f9a965b4fbf",
        "colab": {
          "base_uri": "https://localhost:8080/",
          "height": 151
        }
      },
      "cell_type": "code",
      "source": [
        "(x_train, y_train), (x_test, y_test) = tf.keras.datasets.fashion_mnist.load_data()"
      ],
      "execution_count": 0,
      "outputs": [
        {
          "output_type": "stream",
          "text": [
            "Downloading data from https://storage.googleapis.com/tensorflow/tf-keras-datasets/train-labels-idx1-ubyte.gz\n",
            "32768/29515 [=================================] - 0s 0us/step\n",
            "Downloading data from https://storage.googleapis.com/tensorflow/tf-keras-datasets/train-images-idx3-ubyte.gz\n",
            "26427392/26421880 [==============================] - 0s 0us/step\n",
            "Downloading data from https://storage.googleapis.com/tensorflow/tf-keras-datasets/t10k-labels-idx1-ubyte.gz\n",
            "8192/5148 [===============================================] - 0s 0us/step\n",
            "Downloading data from https://storage.googleapis.com/tensorflow/tf-keras-datasets/t10k-images-idx3-ubyte.gz\n",
            "4423680/4422102 [==============================] - 0s 0us/step\n"
          ],
          "name": "stdout"
        }
      ]
    },
    {
      "metadata": {
        "id": "dSU37vdHWUXV",
        "colab_type": "text"
      },
      "cell_type": "markdown",
      "source": [
        "An example of these pictures is as below."
      ]
    },
    {
      "metadata": {
        "id": "D1QLrCUg4zZF",
        "colab_type": "code",
        "outputId": "13c155ce-7e4d-4549-d827-749a1c7e14cb",
        "colab": {
          "base_uri": "https://localhost:8080/",
          "height": 282
        }
      },
      "cell_type": "code",
      "source": [
        "plt.imshow(x_train[0])"
      ],
      "execution_count": 0,
      "outputs": [
        {
          "output_type": "execute_result",
          "data": {
            "text/plain": [
              "<matplotlib.image.AxesImage at 0x7fafb30d3908>"
            ]
          },
          "metadata": {
            "tags": []
          },
          "execution_count": 4
        },
        {
          "output_type": "display_data",
          "data": {
            "image/png": "[encoded data removed]",
            "text/plain": [
              "<matplotlib.figure.Figure at 0x7faff14f2898>"
            ]
          },
          "metadata": {
            "tags": []
          }
        }
      ]
    },
    {
      "metadata": {
        "id": "B9RCoY9yWass",
        "colab_type": "text"
      },
      "cell_type": "markdown",
      "source": [
        "Reshape the dataset."
      ]
    },
    {
      "metadata": {
        "id": "wXoGsPgi43Z_",
        "colab_type": "code",
        "colab": {}
      },
      "cell_type": "code",
      "source": [
        "x_train = x_train.astype('float32') / 255\n",
        "x_test = x_test.astype('float32') / 255\n",
        "x_train = np.reshape(x_train, (len(x_train), 28, 28, 1))  # adapt this if using `channels_first` image data format\n",
        "x_test = np.reshape(x_test, (len(x_test), 28, 28, 1)) "
      ],
      "execution_count": 0,
      "outputs": []
    },
    {
      "metadata": {
        "id": "7U8P9nHoWrfb",
        "colab_type": "text"
      },
      "cell_type": "markdown",
      "source": [
        "Build the auto-encoder."
      ]
    },
    {
      "metadata": {
        "id": "yJrnTymT48ME",
        "colab_type": "code",
        "colab": {}
      },
      "cell_type": "code",
      "source": [
        "input_img = Input(shape=(28, 28, 1))  # adapt this if using `channels_first` image data format\n",
        "x = Conv2D(16, (3, 3), activation='relu', padding='same')(input_img)\n",
        "x = MaxPooling2D((2, 2), padding='same')(x)\n",
        "x = Conv2D(8, (3, 3), activation='relu', padding='same')(x)\n",
        "x = MaxPooling2D((2, 2), padding='same')(x)\n",
        "x = Conv2D(8, (3, 3), activation='relu', padding='same')(x)\n",
        "encoded = MaxPooling2D((2, 2), padding='same')(x)\n",
        "\n",
        "# at this point the representation is (4, 4, 8) i.e. 128-dimensional\n",
        "\n",
        "x = Conv2D(8, (3, 3), activation='relu', padding='same')(encoded)\n",
        "x = UpSampling2D((2, 2))(x)\n",
        "x = Conv2D(8, (3, 3), activation='relu', padding='same')(x)\n",
        "x = UpSampling2D((2, 2))(x)\n",
        "x = Conv2D(16, (3, 3), activation='relu')(x)\n",
        "x = UpSampling2D((2, 2))(x)\n",
        "decoded = Conv2D(1, (3, 3), activation='sigmoid', padding='same')(x)\n",
        "\n",
        "autoencoder = Model(input_img, decoded)\n",
        "autoencoder.compile(optimizer='adadelta', loss='binary_crossentropy')"
      ],
      "execution_count": 0,
      "outputs": []
    },
    {
      "metadata": {
        "id": "g7jk0kBU4_Yg",
        "colab_type": "code",
        "outputId": "dcbb3107-03b3-4e2e-ca84-0945ecc2ce7c",
        "colab": {
          "base_uri": "https://localhost:8080/",
          "height": 1730
        }
      },
      "cell_type": "code",
      "source": [
        "autoencoder.fit(x_train, x_train,\n",
        "                epochs=50,\n",
        "                batch_size=128,\n",
        "                shuffle=True,\n",
        "                validation_data=(x_test, x_test),\n",
        "                callbacks=[TensorBoard(log_dir='/tmp/autoencoder')])"
      ],
      "execution_count": 0,
      "outputs": [
        {
          "output_type": "stream",
          "text": [
            "Train on 60000 samples, validate on 10000 samples\n",
            "Epoch 1/50\n",
            "60000/60000 [==============================] - 11s 184us/step - loss: 0.3684 - val_loss: 0.3299\n",
            "Epoch 2/50\n",
            "60000/60000 [==============================] - 8s 138us/step - loss: 0.3201 - val_loss: 0.3120\n",
            "Epoch 3/50\n",
            "60000/60000 [==============================] - 8s 133us/step - loss: 0.3116 - val_loss: 0.3173\n",
            "Epoch 4/50\n",
            "60000/60000 [==============================] - 8s 132us/step - loss: 0.3070 - val_loss: 0.3073\n",
            "Epoch 5/50\n",
            "60000/60000 [==============================] - 8s 134us/step - loss: 0.3041 - val_loss: 0.3086\n",
            "Epoch 6/50\n",
            "60000/60000 [==============================] - 8s 134us/step - loss: 0.3020 - val_loss: 0.3044\n",
            "Epoch 7/50\n",
            "60000/60000 [==============================] - 9s 145us/step - loss: 0.3003 - val_loss: 0.3014\n",
            "Epoch 8/50\n",
            "60000/60000 [==============================] - 9s 146us/step - loss: 0.2990 - val_loss: 0.2977\n",
            "Epoch 9/50\n",
            "60000/60000 [==============================] - 9s 146us/step - loss: 0.2975 - val_loss: 0.3111\n",
            "Epoch 10/50\n",
            "60000/60000 [==============================] - 9s 144us/step - loss: 0.2963 - val_loss: 0.2975\n",
            "Epoch 11/50\n",
            "60000/60000 [==============================] - 9s 143us/step - loss: 0.2954 - val_loss: 0.2981\n",
            "Epoch 12/50\n",
            "60000/60000 [==============================] - 10s 170us/step - loss: 0.2948 - val_loss: 0.2943\n",
            "Epoch 13/50\n",
            "60000/60000 [==============================] - 9s 155us/step - loss: 0.2936 - val_loss: 0.2978\n",
            "Epoch 14/50\n",
            "60000/60000 [==============================] - 9s 143us/step - loss: 0.2932 - val_loss: 0.2953\n",
            "Epoch 15/50\n",
            "60000/60000 [==============================] - 8s 134us/step - loss: 0.2928 - val_loss: 0.2945\n",
            "Epoch 16/50\n",
            "60000/60000 [==============================] - 9s 151us/step - loss: 0.2919 - val_loss: 0.2933\n",
            "Epoch 17/50\n",
            "60000/60000 [==============================] - 10s 160us/step - loss: 0.2914 - val_loss: 0.2957\n",
            "Epoch 18/50\n",
            "60000/60000 [==============================] - 10s 159us/step - loss: 0.2910 - val_loss: 0.2946\n",
            "Epoch 19/50\n",
            "60000/60000 [==============================] - 10s 165us/step - loss: 0.2906 - val_loss: 0.2939\n",
            "Epoch 20/50\n",
            "60000/60000 [==============================] - 10s 166us/step - loss: 0.2903 - val_loss: 0.2903\n",
            "Epoch 21/50\n",
            "60000/60000 [==============================] - 10s 165us/step - loss: 0.2897 - val_loss: 0.2921\n",
            "Epoch 22/50\n",
            "60000/60000 [==============================] - 10s 165us/step - loss: 0.2896 - val_loss: 0.2927\n",
            "Epoch 23/50\n",
            "60000/60000 [==============================] - 10s 163us/step - loss: 0.2895 - val_loss: 0.2898\n",
            "Epoch 24/50\n",
            "60000/60000 [==============================] - 10s 166us/step - loss: 0.2892 - val_loss: 0.2900\n",
            "Epoch 25/50\n",
            "60000/60000 [==============================] - 10s 167us/step - loss: 0.2889 - val_loss: 0.2945\n",
            "Epoch 26/50\n",
            "60000/60000 [==============================] - 10s 172us/step - loss: 0.2885 - val_loss: 0.2900\n",
            "Epoch 27/50\n",
            "60000/60000 [==============================] - 11s 180us/step - loss: 0.2879 - val_loss: 0.2886\n",
            "Epoch 28/50\n",
            "60000/60000 [==============================] - 10s 171us/step - loss: 0.2878 - val_loss: 0.2901\n",
            "Epoch 29/50\n",
            "60000/60000 [==============================] - 10s 167us/step - loss: 0.2877 - val_loss: 0.2890\n",
            "Epoch 30/50\n",
            "60000/60000 [==============================] - 10s 167us/step - loss: 0.2877 - val_loss: 0.2906\n",
            "Epoch 31/50\n",
            "60000/60000 [==============================] - 10s 167us/step - loss: 0.2870 - val_loss: 0.2906\n",
            "Epoch 32/50\n",
            "60000/60000 [==============================] - 10s 164us/step - loss: 0.2869 - val_loss: 0.2866\n",
            "Epoch 33/50\n",
            "60000/60000 [==============================] - 10s 164us/step - loss: 0.2870 - val_loss: 0.2897\n",
            "Epoch 34/50\n",
            "60000/60000 [==============================] - 10s 163us/step - loss: 0.2869 - val_loss: 0.2879\n",
            "Epoch 35/50\n",
            "60000/60000 [==============================] - 10s 164us/step - loss: 0.2864 - val_loss: 0.2862\n",
            "Epoch 36/50\n",
            "60000/60000 [==============================] - 10s 164us/step - loss: 0.2861 - val_loss: 0.2895\n",
            "Epoch 37/50\n",
            "60000/60000 [==============================] - 10s 164us/step - loss: 0.2858 - val_loss: 0.2857\n",
            "Epoch 38/50\n",
            "60000/60000 [==============================] - 10s 170us/step - loss: 0.2855 - val_loss: 0.2877\n",
            "Epoch 39/50\n",
            "60000/60000 [==============================] - 10s 169us/step - loss: 0.2852 - val_loss: 0.2887\n",
            "Epoch 40/50\n",
            "60000/60000 [==============================] - 10s 160us/step - loss: 0.2854 - val_loss: 0.2875\n",
            "Epoch 41/50\n",
            "60000/60000 [==============================] - 9s 155us/step - loss: 0.2853 - val_loss: 0.2881\n",
            "Epoch 42/50\n",
            "60000/60000 [==============================] - 9s 149us/step - loss: 0.2850 - val_loss: 0.2874\n",
            "Epoch 43/50\n",
            "60000/60000 [==============================] - 8s 141us/step - loss: 0.2847 - val_loss: 0.2873\n",
            "Epoch 44/50\n",
            "60000/60000 [==============================] - 8s 133us/step - loss: 0.2850 - val_loss: 0.2922\n",
            "Epoch 45/50\n",
            "60000/60000 [==============================] - 8s 128us/step - loss: 0.2847 - val_loss: 0.2866\n",
            "Epoch 46/50\n",
            "60000/60000 [==============================] - 8s 128us/step - loss: 0.2846 - val_loss: 0.2874\n",
            "Epoch 47/50\n",
            "60000/60000 [==============================] - 8s 130us/step - loss: 0.2846 - val_loss: 0.2892\n",
            "Epoch 48/50\n",
            "60000/60000 [==============================] - 8s 128us/step - loss: 0.2848 - val_loss: 0.2871\n",
            "Epoch 49/50\n",
            "60000/60000 [==============================] - 8s 134us/step - loss: 0.2846 - val_loss: 0.2853\n",
            "Epoch 50/50\n",
            "60000/60000 [==============================] - 9s 147us/step - loss: 0.2846 - val_loss: 0.2859\n"
          ],
          "name": "stdout"
        },
        {
          "output_type": "execute_result",
          "data": {
            "text/plain": [
              "<keras.callbacks.History at 0x7fafb082be80>"
            ]
          },
          "metadata": {
            "tags": []
          },
          "execution_count": 8
        }
      ]
    },
    {
      "metadata": {
        "id": "dWeonTR7W9NS",
        "colab_type": "text"
      },
      "cell_type": "markdown",
      "source": [
        "Now, we can use the autoencoders to present the decoded reconstruction of each fashion item. I think this method is more potent than PCA."
      ]
    },
    {
      "metadata": {
        "id": "xNFXsz9J5c44",
        "colab_type": "code",
        "outputId": "c88534be-3620-4e84-c54f-622f34def5dc",
        "colab": {
          "base_uri": "https://localhost:8080/",
          "height": 244
        }
      },
      "cell_type": "code",
      "source": [
        "decoded_imgs = autoencoder.predict(x_test)\n",
        "\n",
        "n = 10\n",
        "plt.figure(figsize=(20, 4))\n",
        "for i in range(1,n):\n",
        "    # display original\n",
        "    ax = plt.subplot(2, n, i)\n",
        "    plt.imshow(x_test[i].reshape(28, 28))\n",
        "    plt.gray()\n",
        "    ax.get_xaxis().set_visible(False)\n",
        "    ax.get_yaxis().set_visible(False)\n",
        "\n",
        "    # display reconstruction\n",
        "    ax = plt.subplot(2, n, i + n)\n",
        "    plt.imshow(decoded_imgs[i].reshape(28, 28))\n",
        "    plt.gray()\n",
        "    ax.get_xaxis().set_visible(False)\n",
        "    ax.get_yaxis().set_visible(False)\n",
        "plt.show()"
      ],
      "execution_count": 0,
      "outputs": [
        {
          "output_type": "display_data",
          "data": {
            "image/png": "[encoded data removed]",
            "text/plain": [
              "<matplotlib.figure.Figure at 0x7fafa2afc0f0>"
            ]
          },
          "metadata": {
            "tags": []
          }
        }
      ]
    },
    {
      "metadata": {
        "id": "zwVm7v36_Vif",
        "colab_type": "text"
      },
      "cell_type": "markdown",
      "source": [
        "## 2. Image Classification"
      ]
    },
    {
      "metadata": {
        "id": "OG1HwO61qbLD",
        "colab_type": "text"
      },
      "cell_type": "markdown",
      "source": [
        "### 2.1 Deep CNN"
      ]
    },
    {
      "metadata": {
        "id": "BcT4wDt2dPI_",
        "colab_type": "code",
        "colab": {}
      },
      "cell_type": "code",
      "source": [
        "(x_train, y_train), (x_test, y_test) = tf.keras.datasets.fashion_mnist.load_data()"
      ],
      "execution_count": 0,
      "outputs": []
    },
    {
      "metadata": {
        "id": "79sYbmTZdVzH",
        "colab_type": "code",
        "colab": {}
      },
      "cell_type": "code",
      "source": [
        "x_train = x_train.reshape(x_train.shape[0], 28, 28,1).astype('float32') / 255\n",
        "x_test = x_test.reshape(x_test.shape[0], 28, 28,1).astype('float32') / 255"
      ],
      "execution_count": 0,
      "outputs": []
    },
    {
      "metadata": {
        "id": "RQbc08soX5J0",
        "colab_type": "text"
      },
      "cell_type": "markdown",
      "source": [
        "We need to convert the target response to numerical categories to train our model"
      ]
    },
    {
      "metadata": {
        "id": "i1L7tT0guKuj",
        "colab_type": "code",
        "colab": {}
      },
      "cell_type": "code",
      "source": [
        "from keras.utils import np_utils\n",
        "y_train = np_utils.to_categorical(y_train, 10)\n",
        "y_test = np_utils.to_categorical(y_test, 10)"
      ],
      "execution_count": 0,
      "outputs": []
    },
    {
      "metadata": {
        "id": "XHgHQz64YMwn",
        "colab_type": "text"
      },
      "cell_type": "markdown",
      "source": [
        "Use LeNet Architecture to do the image classification."
      ]
    },
    {
      "metadata": {
        "id": "mAmj_quwuod-",
        "colab_type": "code",
        "colab": {}
      },
      "cell_type": "code",
      "source": [
        "# =============================\n",
        "#  Setting up LeNet Architecture\n",
        "# ============================\n",
        "model = Sequential()\n",
        "\n",
        "model.add(Conv2D(filters = 32,kernel_size=(3, 3), \n",
        "                 activation='relu', strides=(1, 1), \n",
        "                 padding='valid', input_shape=(28,28,1)))\n",
        "model.add(MaxPooling2D(pool_size=(2, 2)))\n",
        "\n",
        "model.add(Conv2D(filters = 32,kernel_size=(3, 3), \n",
        "                 activation='relu', strides=(1, 1), \n",
        "                 padding='valid', input_shape=(28,28,1)))\n",
        "model.add(MaxPooling2D(pool_size=(2, 2)))\n",
        "model.add(Dropout(0.5))\n",
        "\n",
        "model.add(Conv2D(filters = 32,kernel_size=(3, 3), \n",
        "                 activation='relu', strides=(1, 1), \n",
        "                 padding='valid', input_shape=(28,28,1)))\n",
        "\n",
        "model.add(Flatten())\n",
        "model.add(Dense(84))\n",
        "model.add(Dense(10))\n",
        "model.add(Activation('softmax'))"
      ],
      "execution_count": 0,
      "outputs": []
    },
    {
      "metadata": {
        "id": "yPpZsKxevH0a",
        "colab_type": "code",
        "outputId": "ff8834d9-29a8-4eaf-afd5-639127ffbbb1",
        "colab": {
          "base_uri": "https://localhost:8080/",
          "height": 386
        }
      },
      "cell_type": "code",
      "source": [
        "l_rate = 1\n",
        "sgd = SGD(lr=l_rate, momentum=0.0, decay=0.0, nesterov=False)\n",
        "# model.compile(loss='categorical_crossentropy', optimizer=sgd,metrics=['accuracy']) -takes a long time to converge\n",
        "model.compile(loss='categorical_crossentropy', optimizer='adam',metrics=['accuracy'])\n",
        "model.fit(x_train, y_train, epochs=10,\n",
        "          verbose=2, validation_data=(x_test, y_test))"
      ],
      "execution_count": 54,
      "outputs": [
        {
          "output_type": "stream",
          "text": [
            "Train on 60000 samples, validate on 10000 samples\n",
            "Epoch 1/10\n",
            " - 56s - loss: 0.6051 - acc: 0.7763 - val_loss: 0.4097 - val_acc: 0.8487\n",
            "Epoch 2/10\n",
            " - 54s - loss: 0.4133 - acc: 0.8477 - val_loss: 0.3453 - val_acc: 0.8747\n",
            "Epoch 3/10\n",
            " - 54s - loss: 0.3679 - acc: 0.8654 - val_loss: 0.3168 - val_acc: 0.8869\n",
            "Epoch 4/10\n",
            " - 53s - loss: 0.3457 - acc: 0.8726 - val_loss: 0.3174 - val_acc: 0.8833\n",
            "Epoch 5/10\n",
            " - 53s - loss: 0.3283 - acc: 0.8806 - val_loss: 0.3135 - val_acc: 0.8862\n",
            "Epoch 6/10\n",
            " - 54s - loss: 0.3159 - acc: 0.8828 - val_loss: 0.2830 - val_acc: 0.8960\n",
            "Epoch 7/10\n",
            " - 54s - loss: 0.3072 - acc: 0.8857 - val_loss: 0.2820 - val_acc: 0.8975\n",
            "Epoch 8/10\n",
            " - 53s - loss: 0.3029 - acc: 0.8884 - val_loss: 0.2949 - val_acc: 0.8924\n",
            "Epoch 9/10\n",
            " - 53s - loss: 0.2939 - acc: 0.8906 - val_loss: 0.2746 - val_acc: 0.8988\n",
            "Epoch 10/10\n",
            " - 53s - loss: 0.2885 - acc: 0.8924 - val_loss: 0.2795 - val_acc: 0.8952\n"
          ],
          "name": "stdout"
        },
        {
          "output_type": "execute_result",
          "data": {
            "text/plain": [
              "<keras.callbacks.History at 0x7f3472328ef0>"
            ]
          },
          "metadata": {
            "tags": []
          },
          "execution_count": 54
        }
      ]
    },
    {
      "metadata": {
        "id": "PdIMB-VcwMUl",
        "colab_type": "code",
        "outputId": "1923b321-23c8-4c4f-b7c9-ea850ad1986b",
        "colab": {
          "base_uri": "https://localhost:8080/",
          "height": 50
        }
      },
      "cell_type": "code",
      "source": [
        "print(\"Testing accuracy = %0.05f\" % model.evaluate(x_test, y_test)[1])"
      ],
      "execution_count": 55,
      "outputs": [
        {
          "output_type": "stream",
          "text": [
            "10000/10000 [==============================] - 3s 306us/step\n",
            "Testing accuracy = 0.89520\n"
          ],
          "name": "stdout"
        }
      ]
    },
    {
      "metadata": {
        "id": "Jz74idh7wv0_",
        "colab_type": "code",
        "outputId": "14c3b183-85a9-4daf-ab47-772eb7f54228",
        "colab": {
          "base_uri": "https://localhost:8080/",
          "height": 50
        }
      },
      "cell_type": "code",
      "source": [
        "print(\"Training accuracy = %0.05f\" % model.evaluate(x_train, y_train)[1])"
      ],
      "execution_count": 56,
      "outputs": [
        {
          "output_type": "stream",
          "text": [
            "60000/60000 [==============================] - 19s 311us/step\n",
            "Training accuracy = 0.91215\n"
          ],
          "name": "stdout"
        }
      ]
    },
    {
      "metadata": {
        "id": "EPp1Fr5VYWbA",
        "colab_type": "text"
      },
      "cell_type": "markdown",
      "source": [
        "The performance of this model is sound. The test accuracy is close to the training accuracy. Hence, I do not think the problem of overfitting exists in this case."
      ]
    },
    {
      "metadata": {
        "id": "Q1E0iXLvqgIF",
        "colab_type": "text"
      },
      "cell_type": "markdown",
      "source": [
        "### 2.2 Transfer Learning"
      ]
    },
    {
      "metadata": {
        "id": "DceIGD5FbLZq",
        "colab_type": "text"
      },
      "cell_type": "markdown",
      "source": [
        "In this section, I used the VGG to do the transfer learning. Notice that the VGG requires an input of three channels and 48*48 pixels. Hence, I reshape the dataset to (length, 48, 48, 3)"
      ]
    },
    {
      "metadata": {
        "id": "rf_MV9tQ0YWb",
        "colab_type": "code",
        "colab": {}
      },
      "cell_type": "code",
      "source": [
        "(x_train, y_train), (x_test, y_test) = tf.keras.datasets.fashion_mnist.load_data()"
      ],
      "execution_count": 0,
      "outputs": []
    },
    {
      "metadata": {
        "id": "3MIfVk0h0Zla",
        "colab_type": "code",
        "colab": {
          "base_uri": "https://localhost:8080/",
          "height": 34
        },
        "outputId": "621a5ea2-26cb-4213-dd85-7192eb666bfd"
      },
      "cell_type": "code",
      "source": [
        "x_train= np.reshape(x_train, (len(x_train), 28*28))\n",
        "x_train = np.dstack([x_train] * 3)\n",
        "x_test= np.reshape(x_test, (len(x_test), 28*28))\n",
        "x_test = np.dstack([x_test] * 3)\n",
        "x_train = x_train.reshape(-1, 28,28,3)\n",
        "x_test= x_test.reshape (-1,28,28,3)\n",
        "x_train.shape,x_test.shape"
      ],
      "execution_count": 79,
      "outputs": [
        {
          "output_type": "execute_result",
          "data": {
            "text/plain": [
              "((60000, 28, 28, 3), (10000, 28, 28, 3))"
            ]
          },
          "metadata": {
            "tags": []
          },
          "execution_count": 79
        }
      ]
    },
    {
      "metadata": {
        "id": "j5BTOFEp6oKw",
        "colab_type": "code",
        "outputId": "e565871d-1079-4d1a-bca2-07541acc6809",
        "colab": {
          "base_uri": "https://localhost:8080/",
          "height": 34
        }
      },
      "cell_type": "code",
      "source": [
        "# Reshape image to (48,48)\n",
        "from keras.preprocessing.image import img_to_array, array_to_img\n",
        "x_train = np.asarray([img_to_array(array_to_img(im, scale=False).resize((48,48))) for im in x_train])\n",
        "x_test = np.asarray([img_to_array(array_to_img(im, scale=False).resize((48,48))) for im in x_test])\n",
        "x_train.shape, x_test.shape"
      ],
      "execution_count": 80,
      "outputs": [
        {
          "output_type": "execute_result",
          "data": {
            "text/plain": [
              "((60000, 48, 48, 3), (10000, 48, 48, 3))"
            ]
          },
          "metadata": {
            "tags": []
          },
          "execution_count": 80
        }
      ]
    },
    {
      "metadata": {
        "id": "1Pv_mwHj7Fu1",
        "colab_type": "code",
        "colab": {}
      },
      "cell_type": "code",
      "source": [
        "x_train = x_train.astype('float32') / 255\n",
        "x_test = x_test.astype('float32') / 255\n",
        "y_train = np_utils.to_categorical(y_train, 10)\n",
        "y_test = np_utils.to_categorical(y_test, 10)"
      ],
      "execution_count": 0,
      "outputs": []
    },
    {
      "metadata": {
        "id": "aN_TsBIkfysL",
        "colab_type": "text"
      },
      "cell_type": "markdown",
      "source": [
        "Build the transfer learning model. Notice that we only train the last layer. Hence, we set the layer.trainable parameter to false."
      ]
    },
    {
      "metadata": {
        "id": "2dWTeriEXUH2",
        "colab_type": "code",
        "colab": {}
      },
      "cell_type": "code",
      "source": [
        "number_of_classes = 10\n",
        "\n",
        "vgg = VGG16(weights = \"imagenet\", include_top=False,  input_shape=(48, 48, 3) ,pooling='max', classes=number_of_classes)\n",
        "\n",
        "\n",
        "for layer in vgg.layers[:17]:\n",
        "    layer.trainable = False\n",
        "\n",
        "x = vgg.output\n",
        "x = Dense(1024, activation=\"relu\")(x)\n",
        "x = Dropout(0.5)(x)\n",
        "x = Dense(1024, activation=\"relu\")(x)\n",
        "predictions = Dense(number_of_classes, activation=\"softmax\")(x)\n",
        "\n",
        "# creating the final model \n",
        "vgg_model = Model(inputs = vgg.input, outputs = predictions)"
      ],
      "execution_count": 0,
      "outputs": []
    },
    {
      "metadata": {
        "id": "_erHhmV3XUNn",
        "colab_type": "code",
        "outputId": "6a664517-2778-4e81-9482-a58865ac2786",
        "colab": {
          "base_uri": "https://localhost:8080/",
          "height": 941
        }
      },
      "cell_type": "code",
      "source": [
        "vgg_model.summary()"
      ],
      "execution_count": 69,
      "outputs": [
        {
          "output_type": "stream",
          "text": [
            "_________________________________________________________________\n",
            "Layer (type)                 Output Shape              Param #   \n",
            "=================================================================\n",
            "input_6 (InputLayer)         (None, 48, 48, 3)         0         \n",
            "_________________________________________________________________\n",
            "block1_conv1 (Conv2D)        (None, 48, 48, 64)        1792      \n",
            "_________________________________________________________________\n",
            "block1_conv2 (Conv2D)        (None, 48, 48, 64)        36928     \n",
            "_________________________________________________________________\n",
            "block1_pool (MaxPooling2D)   (None, 24, 24, 64)        0         \n",
            "_________________________________________________________________\n",
            "block2_conv1 (Conv2D)        (None, 24, 24, 128)       73856     \n",
            "_________________________________________________________________\n",
            "block2_conv2 (Conv2D)        (None, 24, 24, 128)       147584    \n",
            "_________________________________________________________________\n",
            "block2_pool (MaxPooling2D)   (None, 12, 12, 128)       0         \n",
            "_________________________________________________________________\n",
            "block3_conv1 (Conv2D)        (None, 12, 12, 256)       295168    \n",
            "_________________________________________________________________\n",
            "block3_conv2 (Conv2D)        (None, 12, 12, 256)       590080    \n",
            "_________________________________________________________________\n",
            "block3_conv3 (Conv2D)        (None, 12, 12, 256)       590080    \n",
            "_________________________________________________________________\n",
            "block3_pool (MaxPooling2D)   (None, 6, 6, 256)         0         \n",
            "_________________________________________________________________\n",
            "block4_conv1 (Conv2D)        (None, 6, 6, 512)         1180160   \n",
            "_________________________________________________________________\n",
            "block4_conv2 (Conv2D)        (None, 6, 6, 512)         2359808   \n",
            "_________________________________________________________________\n",
            "block4_conv3 (Conv2D)        (None, 6, 6, 512)         2359808   \n",
            "_________________________________________________________________\n",
            "block4_pool (MaxPooling2D)   (None, 3, 3, 512)         0         \n",
            "_________________________________________________________________\n",
            "block5_conv1 (Conv2D)        (None, 3, 3, 512)         2359808   \n",
            "_________________________________________________________________\n",
            "block5_conv2 (Conv2D)        (None, 3, 3, 512)         2359808   \n",
            "_________________________________________________________________\n",
            "block5_conv3 (Conv2D)        (None, 3, 3, 512)         2359808   \n",
            "_________________________________________________________________\n",
            "block5_pool (MaxPooling2D)   (None, 1, 1, 512)         0         \n",
            "_________________________________________________________________\n",
            "global_max_pooling2d_3 (Glob (None, 512)               0         \n",
            "_________________________________________________________________\n",
            "dense_11 (Dense)             (None, 1024)              525312    \n",
            "_________________________________________________________________\n",
            "dropout_7 (Dropout)          (None, 1024)              0         \n",
            "_________________________________________________________________\n",
            "dense_12 (Dense)             (None, 1024)              1049600   \n",
            "_________________________________________________________________\n",
            "dense_13 (Dense)             (None, 10)                10250     \n",
            "=================================================================\n",
            "Total params: 16,299,850\n",
            "Trainable params: 3,944,970\n",
            "Non-trainable params: 12,354,880\n",
            "_________________________________________________________________\n"
          ],
          "name": "stdout"
        }
      ]
    },
    {
      "metadata": {
        "id": "rG0RNQWfXUSp",
        "colab_type": "code",
        "outputId": "753a5d28-a2ae-47de-f5f8-7b8d345c59d4",
        "colab": {
          "base_uri": "https://localhost:8080/",
          "height": 202
        }
      },
      "cell_type": "code",
      "source": [
        "# Training the model\n",
        "batch_size = 150\n",
        "epochs = 5\n",
        "#model = create_model()\n",
        "vgg_model.compile(optimizer='adam',loss='categorical_crossentropy',metrics=['accuracy'])\n",
        "history = vgg_model.fit(x_train, y_train,\n",
        "                    batch_size=batch_size,\n",
        "                    epochs=epochs,\n",
        "                    verbose=1,\n",
        "validation_data=(x_test, y_test))"
      ],
      "execution_count": 72,
      "outputs": [
        {
          "output_type": "stream",
          "text": [
            "Train on 60000 samples, validate on 10000 samples\n",
            "Epoch 1/5\n",
            "60000/60000 [==============================] - 1896s 32ms/step - loss: 0.4489 - acc: 0.8383 - val_loss: 0.3410 - val_acc: 0.8801\n",
            "Epoch 2/5\n",
            "60000/60000 [==============================] - 1901s 32ms/step - loss: 0.3182 - acc: 0.8853 - val_loss: 0.3386 - val_acc: 0.8769\n",
            "Epoch 3/5\n",
            "60000/60000 [==============================] - 1891s 32ms/step - loss: 0.2858 - acc: 0.8954 - val_loss: 0.3003 - val_acc: 0.8917\n",
            "Epoch 4/5\n",
            "60000/60000 [==============================] - 1896s 32ms/step - loss: 0.2667 - acc: 0.9030 - val_loss: 0.2997 - val_acc: 0.8881\n",
            "Epoch 5/5\n",
            "60000/60000 [==============================] - 1890s 31ms/step - loss: 0.2486 - acc: 0.9085 - val_loss: 0.2969 - val_acc: 0.8980\n"
          ],
          "name": "stdout"
        }
      ]
    },
    {
      "metadata": {
        "id": "Z5AqVl4PXUaS",
        "colab_type": "code",
        "outputId": "ab843c2d-b8cc-4cfa-b0ce-47a8410fbb8c",
        "colab": {
          "base_uri": "https://localhost:8080/",
          "height": 84
        }
      },
      "cell_type": "code",
      "source": [
        "print(\"Training accuracy = %0.05f\" % vgg_model.evaluate(x_train, y_train)[1])\n",
        "print(\"Testing accuracy = %0.05f\" % vgg_model.evaluate(x_test, y_test)[1])"
      ],
      "execution_count": 82,
      "outputs": [
        {
          "output_type": "stream",
          "text": [
            "60000/60000 [==============================] - 1557s 26ms/step\n",
            "Training accuracy = 0.91668\n",
            "10000/10000 [==============================] - 259s 26ms/step\n",
            "Testing accuracy = 0.89800\n"
          ],
          "name": "stdout"
        }
      ]
    },
    {
      "metadata": {
        "id": "9DFq78OIXUdJ",
        "colab_type": "code",
        "colab": {}
      },
      "cell_type": "code",
      "source": [
        "vgg_model.save('my_vgg_model.h5') "
      ],
      "execution_count": 0,
      "outputs": []
    },
    {
      "metadata": {
        "id": "vuIIUWXJgJA8",
        "colab_type": "text"
      },
      "cell_type": "markdown",
      "source": [
        "In this case, the performance of transfer learning is a little bit higher than the deep CNN. However, it takes me a lot of time to train the model."
      ]
    },
    {
      "metadata": {
        "id": "83LfIXlpFcqK",
        "colab_type": "text"
      },
      "cell_type": "markdown",
      "source": [
        "## 3. Text Classification"
      ]
    },
    {
      "metadata": {
        "id": "IMReFhJqXUgQ",
        "colab_type": "code",
        "colab": {}
      },
      "cell_type": "code",
      "source": [
        "benign = pd.read_csv(\"https://s3.amazonaws.com/anly-590/url-classification/benign-urls.txt\" , header = None)\n",
        "malicious =  pd.read_csv(\"https://s3.amazonaws.com/anly-590/url-classification/malicious-urls.txt\", header = None)"
      ],
      "execution_count": 0,
      "outputs": []
    },
    {
      "metadata": {
        "id": "emb43nOfFBwM",
        "colab_type": "text"
      },
      "cell_type": "markdown",
      "source": [
        "### 3.1 Bidirectional RNN"
      ]
    },
    {
      "metadata": {
        "id": "22fdaj_Rhbcw",
        "colab_type": "text"
      },
      "cell_type": "markdown",
      "source": [
        "First, I built a data frame to store all the URLs and their categories."
      ]
    },
    {
      "metadata": {
        "id": "THlqQirJXUjN",
        "colab_type": "code",
        "colab": {}
      },
      "cell_type": "code",
      "source": [
        "benign = benign.drop([0])\n",
        "malicious = malicious.rename(columns = {0:\"URL\"})\n",
        "benign = benign.rename(columns = {0:\"URL\"})\n",
        "benign['Is_Malicious'] = 0\n",
        "malicious['Is_Malicious'] = 1"
      ],
      "execution_count": 0,
      "outputs": []
    },
    {
      "metadata": {
        "id": "6fQ72tmwMMQT",
        "colab_type": "code",
        "colab": {}
      },
      "cell_type": "code",
      "source": [
        "df = pd.concat([benign, malicious])"
      ],
      "execution_count": 0,
      "outputs": []
    },
    {
      "metadata": {
        "id": "7WBvxtUPXUQ5",
        "colab_type": "code",
        "outputId": "e7d1d2ac-c25e-46fe-cb26-9094d35183d7",
        "colab": {
          "base_uri": "https://localhost:8080/",
          "height": 195
        }
      },
      "cell_type": "code",
      "source": [
        "df.head()"
      ],
      "execution_count": 87,
      "outputs": [
        {
          "output_type": "execute_result",
          "data": {
            "text/html": [
              "<div>\n",
              "<style scoped>\n",
              "    .dataframe tbody tr th:only-of-type {\n",
              "        vertical-align: middle;\n",
              "    }\n",
              "\n",
              "    .dataframe tbody tr th {\n",
              "        vertical-align: top;\n",
              "    }\n",
              "\n",
              "    .dataframe thead th {\n",
              "        text-align: right;\n",
              "    }\n",
              "</style>\n",
              "<table border=\"1\" class=\"dataframe\">\n",
              "  <thead>\n",
              "    <tr style=\"text-align: right;\">\n",
              "      <th></th>\n",
              "      <th>URL</th>\n",
              "      <th>Is_Malicious</th>\n",
              "    </tr>\n",
              "  </thead>\n",
              "  <tbody>\n",
              "    <tr>\n",
              "      <th>1</th>\n",
              "      <td>.0.blogger.gmodules.com</td>\n",
              "      <td>0</td>\n",
              "    </tr>\n",
              "    <tr>\n",
              "      <th>2</th>\n",
              "      <td>.0.client-channel.google.com</td>\n",
              "      <td>0</td>\n",
              "    </tr>\n",
              "    <tr>\n",
              "      <th>3</th>\n",
              "      <td>.0.docs.google.com</td>\n",
              "      <td>0</td>\n",
              "    </tr>\n",
              "    <tr>\n",
              "      <th>4</th>\n",
              "      <td>.0.drive.google.com</td>\n",
              "      <td>0</td>\n",
              "    </tr>\n",
              "    <tr>\n",
              "      <th>5</th>\n",
              "      <td>.0.gvt0.cn</td>\n",
              "      <td>0</td>\n",
              "    </tr>\n",
              "  </tbody>\n",
              "</table>\n",
              "</div>"
            ],
            "text/plain": [
              "                            URL  Is_Malicious\n",
              "1       .0.blogger.gmodules.com             0\n",
              "2  .0.client-channel.google.com             0\n",
              "3            .0.docs.google.com             0\n",
              "4           .0.drive.google.com             0\n",
              "5                    .0.gvt0.cn             0"
            ]
          },
          "metadata": {
            "tags": []
          },
          "execution_count": 87
        }
      ]
    },
    {
      "metadata": {
        "id": "mUSpREdShnIz",
        "colab_type": "text"
      },
      "cell_type": "markdown",
      "source": [
        "I built tokens due to the printable characters. Then, I applied padding to each URL. "
      ]
    },
    {
      "metadata": {
        "id": "ZxohRlEEXULt",
        "colab_type": "code",
        "outputId": "dd04dcae-3658-452e-8d6c-408a9efdf739",
        "colab": {
          "base_uri": "https://localhost:8080/",
          "height": 34
        }
      },
      "cell_type": "code",
      "source": [
        "# Data preprocessing\n",
        "\n",
        "# Convert The URLs to indices of printable characters\n",
        "url_tokens = [[printable.index(x) + 1 for x in url if x in printable] for url in df.URL]\n",
        "\n",
        "# maximal lenghth and padding\n",
        "max_len=75\n",
        "X = sequence.pad_sequences(url_tokens, maxlen=max_len)\n",
        " \n",
        "# get the response\n",
        "y = np.array(df.Is_Malicious)\n",
        "\n",
        "print('Matrix dimensions of X: ', X.shape, 'Vector dimension of response: ', y.shape)"
      ],
      "execution_count": 88,
      "outputs": [
        {
          "output_type": "stream",
          "text": [
            "Matrix dimensions of X:  (67352, 75) Vector dimension of response:  (67352,)\n"
          ],
          "name": "stdout"
        }
      ]
    },
    {
      "metadata": {
        "id": "i66r9mYK8FXj",
        "colab_type": "code",
        "colab": {}
      },
      "cell_type": "code",
      "source": [
        "X_train, X_test, y_train, y_test = train_test_split(X, y, test_size=0.25, random_state=3)"
      ],
      "execution_count": 0,
      "outputs": []
    },
    {
      "metadata": {
        "id": "x9xUIfkGh4N6",
        "colab_type": "text"
      },
      "cell_type": "markdown",
      "source": [
        "In this case, I used the Bidirectional RNN to do the classification."
      ]
    },
    {
      "metadata": {
        "id": "XuCGHLa7Zam0",
        "colab_type": "code",
        "outputId": "c027c74e-f133-4261-fa2c-eea1d0447b23",
        "colab": {
          "base_uri": "https://localhost:8080/",
          "height": 269
        }
      },
      "cell_type": "code",
      "source": [
        "# Input\n",
        "max_len=75\n",
        "emb_dim=32\n",
        "max_vocab_len=100\n",
        "output_size=32\n",
        "W_reg=regularizers.l2(1e-4)\n",
        "\n",
        "inp = Input(shape=(max_len,),dtype='int32')\n",
        "\n",
        "x = Embedding(input_dim=max_vocab_len, output_dim=emb_dim, input_length=max_len, W_regularizer=W_reg)(inp) \n",
        "x = Bidirectional(SimpleRNN(100, \n",
        "                             return_sequences=False, \n",
        "                             dropout=0.1, \n",
        "                             recurrent_dropout=0.1))(x)\n",
        "x = Dense(1, activation='sigmoid')(x)\n",
        "\n",
        "# Setting the model\n",
        "model1 = Model(inputs=inp, outputs=x)\n",
        "adam = Adam(lr=1e-4, beta_1=0.9, beta_2=0.999, epsilon=1e-08, decay=0.0)\n",
        "model1.compile(optimizer=adam, loss='binary_crossentropy', metrics=['accuracy'])\n",
        "model1.summary()"
      ],
      "execution_count": 91,
      "outputs": [
        {
          "output_type": "stream",
          "text": [
            "_________________________________________________________________\n",
            "Layer (type)                 Output Shape              Param #   \n",
            "=================================================================\n",
            "input_8 (InputLayer)         (None, 75)                0         \n",
            "_________________________________________________________________\n",
            "embedding_5 (Embedding)      (None, 75, 32)            3200      \n",
            "_________________________________________________________________\n",
            "bidirectional_3 (Bidirection (None, 200)               26600     \n",
            "_________________________________________________________________\n",
            "dense_15 (Dense)             (None, 1)                 201       \n",
            "=================================================================\n",
            "Total params: 30,001\n",
            "Trainable params: 30,001\n",
            "Non-trainable params: 0\n",
            "_________________________________________________________________\n"
          ],
          "name": "stdout"
        }
      ]
    },
    {
      "metadata": {
        "id": "A0LA5XkrZhYK",
        "colab_type": "code",
        "outputId": "8bafac31-b230-4afd-f450-2fdca3e1ae0a",
        "colab": {
          "base_uri": "https://localhost:8080/",
          "height": 470
        }
      },
      "cell_type": "code",
      "source": [
        "cwd = os.getcwd()\n",
        "epochs = 20\n",
        "batch_size = 32\n",
        "\n",
        "# early stopping\n",
        "callbacks = [EarlyStopping(monitor='val_loss', patience=2),\n",
        "             ModelCheckpoint(filepath='Best_BI_RNN_model.h5', monitor='val_loss', save_best_only=True)]\n",
        "\n",
        "\n",
        "history1 = model1.fit(X_train, y_train, epochs=epochs, \n",
        "                      batch_size=batch_size, \n",
        "                      validation_data=(X_test, y_test),\n",
        "                     callbacks=callbacks)\n",
        "\n",
        "loss, accuracy = model1.evaluate(X_train, y_train, verbose=1)\n",
        "print('\\nTraining Accuracy = ', accuracy, '\\n')\n",
        "\n",
        "loss, accuracy = model1.evaluate(X_test, y_test, verbose=1)\n",
        "print('\\nTesting Accuracy =', accuracy, '\\n')\n"
      ],
      "execution_count": 111,
      "outputs": [
        {
          "output_type": "stream",
          "text": [
            "Train on 50514 samples, validate on 16838 samples\n",
            "Epoch 1/20\n",
            "50514/50514 [==============================] - 73s 1ms/step - loss: 0.0250 - acc: 0.9886 - val_loss: 0.0225 - val_acc: 0.9888\n",
            "Epoch 2/20\n",
            "50514/50514 [==============================] - 73s 1ms/step - loss: 0.0245 - acc: 0.9890 - val_loss: 0.0223 - val_acc: 0.9890\n",
            "Epoch 3/20\n",
            "50514/50514 [==============================] - 73s 1ms/step - loss: 0.0244 - acc: 0.9888 - val_loss: 0.0220 - val_acc: 0.9889\n",
            "Epoch 4/20\n",
            "50514/50514 [==============================] - 73s 1ms/step - loss: 0.0250 - acc: 0.9888 - val_loss: 0.0219 - val_acc: 0.9890\n",
            "Epoch 5/20\n",
            "50514/50514 [==============================] - 74s 1ms/step - loss: 0.0246 - acc: 0.9887 - val_loss: 0.0218 - val_acc: 0.9893\n",
            "Epoch 6/20\n",
            "50514/50514 [==============================] - 73s 1ms/step - loss: 0.0242 - acc: 0.9888 - val_loss: 0.0218 - val_acc: 0.9897\n",
            "Epoch 7/20\n",
            "50514/50514 [==============================] - 73s 1ms/step - loss: 0.0239 - acc: 0.9891 - val_loss: 0.0214 - val_acc: 0.9895\n",
            "Epoch 8/20\n",
            "50514/50514 [==============================] - 73s 1ms/step - loss: 0.0237 - acc: 0.9893 - val_loss: 0.0222 - val_acc: 0.9895\n",
            "Epoch 9/20\n",
            "50514/50514 [==============================] - 75s 1ms/step - loss: 0.0236 - acc: 0.9892 - val_loss: 0.0218 - val_acc: 0.9897\n",
            "50514/50514 [==============================] - 21s 409us/step\n",
            "\n",
            "Training Accuracy =  0.9914875084135091 \n",
            "\n",
            "16838/16838 [==============================] - 7s 411us/step\n",
            "\n",
            "Testing Accuracy = 0.9897256206200261 \n",
            "\n"
          ],
          "name": "stdout"
        }
      ]
    },
    {
      "metadata": {
        "id": "g2YOW-nna7x7",
        "colab_type": "code",
        "colab": {}
      },
      "cell_type": "code",
      "source": [
        "## Using Different URLs to test the model\n",
        "test_url_mal = \".btscene2.com\"\n",
        "test_url_benign = \"www.yahoo.com\""
      ],
      "execution_count": 0,
      "outputs": []
    },
    {
      "metadata": {
        "id": "bhcpdolQa9xG",
        "colab_type": "code",
        "colab": {}
      },
      "cell_type": "code",
      "source": [
        "def test_url(url, model):\n",
        "  # Step 1: Convert raw URL string in list of lists where characters that are contained in \"printable\" are stored encoded as integer \n",
        "  url_int_tokens = [[printable.index(x) + 1 for x in url if x in printable]]\n",
        "\n",
        "  # Step 2: Cut URL string at max_len or pad with zeros if shorter\n",
        "  max_len=75\n",
        "  X = sequence.pad_sequences(url_int_tokens, maxlen=max_len)\n",
        "  proba = model.predict(X, batch_size=1)\n",
        "  if proba > 0.5:\n",
        "        result = \"malicious\"\n",
        "  else:\n",
        "        result = \"benign\"\n",
        "  print(\"Test URL:\", url, \"is\",result)"
      ],
      "execution_count": 0,
      "outputs": []
    },
    {
      "metadata": {
        "id": "N5AnBXfSbDQl",
        "colab_type": "code",
        "outputId": "35c4e13d-cf0b-4ba8-dc1a-e4c3412d3166",
        "colab": {
          "base_uri": "https://localhost:8080/",
          "height": 50
        }
      },
      "cell_type": "code",
      "source": [
        "test_url(test_url_mal,model1)\n",
        "test_url(test_url_benign,model1)"
      ],
      "execution_count": 114,
      "outputs": [
        {
          "output_type": "stream",
          "text": [
            "Test URL: .btscene2.com is malicious\n",
            "Test URL: www.yahoo.com is benign\n"
          ],
          "name": "stdout"
        }
      ]
    },
    {
      "metadata": {
        "id": "wQJSTQmIiBQ-",
        "colab_type": "text"
      },
      "cell_type": "markdown",
      "source": [
        "The training and testing accuracies are very high, which shows that our model can efficiently detect most malicious URLs."
      ]
    },
    {
      "metadata": {
        "id": "kSuMJUVtQQHb",
        "colab_type": "text"
      },
      "cell_type": "markdown",
      "source": [
        "### 3.2 CNN + LSTM"
      ]
    },
    {
      "metadata": {
        "id": "Gr3HsHjNQcAF",
        "colab_type": "code",
        "colab": {
          "base_uri": "https://localhost:8080/",
          "height": 437
        },
        "outputId": "0cbc5636-fe9e-48f1-b5eb-d04867534bc6"
      },
      "cell_type": "code",
      "source": [
        "# Input\n",
        "max_len=75\n",
        "emb_dim=32\n",
        "max_vocab_len=100\n",
        "output_size=32\n",
        "W_reg=regularizers.l2(1e-4)\n",
        "\n",
        "inp = Input(shape=(max_len,),dtype='int32')\n",
        "\n",
        "x = Embedding(input_dim=max_vocab_len, output_dim=emb_dim, input_length=max_len, W_regularizer=W_reg)(inp) \n",
        "\n",
        "# CNN\n",
        "x =Convolution1D(kernel_size=5, filters=256, border_mode='same')(x)\n",
        "x = ELU()(x)\n",
        "x = MaxPooling1D(pool_size=4)(x)\n",
        "x = Dropout(0.1)(x)\n",
        "\n",
        "# LSTM\n",
        "x = LSTM(output_size)(x)\n",
        "x = Dropout(0.1)(x)\n",
        "x = Dense(1, activation='sigmoid')(x)\n",
        "\n",
        "# Setting the model\n",
        "model2 = Model(inputs=inp, outputs=x)\n",
        "adam = Adam(lr=1e-4, beta_1=0.9, beta_2=0.999, epsilon=1e-08, decay=0.0)\n",
        "model2.compile(optimizer=adam, loss='binary_crossentropy', metrics=['accuracy'])\n",
        "model2.summary()"
      ],
      "execution_count": 118,
      "outputs": [
        {
          "output_type": "stream",
          "text": [
            "_________________________________________________________________\n",
            "Layer (type)                 Output Shape              Param #   \n",
            "=================================================================\n",
            "input_9 (InputLayer)         (None, 75)                0         \n",
            "_________________________________________________________________\n",
            "embedding_6 (Embedding)      (None, 75, 32)            3200      \n",
            "_________________________________________________________________\n",
            "conv1d_3 (Conv1D)            (None, 75, 256)           41216     \n",
            "_________________________________________________________________\n",
            "elu_3 (ELU)                  (None, 75, 256)           0         \n",
            "_________________________________________________________________\n",
            "max_pooling1d_3 (MaxPooling1 (None, 18, 256)           0         \n",
            "_________________________________________________________________\n",
            "dropout_8 (Dropout)          (None, 18, 256)           0         \n",
            "_________________________________________________________________\n",
            "lstm_2 (LSTM)                (None, 32)                36992     \n",
            "_________________________________________________________________\n",
            "dropout_9 (Dropout)          (None, 32)                0         \n",
            "_________________________________________________________________\n",
            "dense_16 (Dense)             (None, 1)                 33        \n",
            "=================================================================\n",
            "Total params: 81,441\n",
            "Trainable params: 81,441\n",
            "Non-trainable params: 0\n",
            "_________________________________________________________________\n"
          ],
          "name": "stdout"
        }
      ]
    },
    {
      "metadata": {
        "id": "Bik14TPpVuo9",
        "colab_type": "code",
        "colab": {
          "base_uri": "https://localhost:8080/",
          "height": 605
        },
        "outputId": "31b5b907-220b-4129-dc3c-e0099c990e5b"
      },
      "cell_type": "code",
      "source": [
        "cwd = os.getcwd()\n",
        "epochs = 20\n",
        "batch_size = 32\n",
        "\n",
        "# early stopping\n",
        "callbacks = [EarlyStopping(monitor='val_loss', patience=2),\n",
        "             ModelCheckpoint(filepath='Best_CNN_LSTM_model.h5', monitor='val_loss', save_best_only=True)]\n",
        "\n",
        "\n",
        "history2 = model2.fit(X_train, y_train, epochs=epochs, \n",
        "                      batch_size=batch_size, \n",
        "                      validation_data=(X_test, y_test),\n",
        "                     callbacks=callbacks)\n",
        "  \n",
        "\n",
        "loss, accuracy = model2.evaluate(X_train, y_train, verbose=1)\n",
        "print('\\nTraining Accuracy = ', accuracy, '\\n')\n",
        "\n",
        "loss, accuracy = model2.evaluate(X_test, y_test, verbose=1)\n",
        "print('\\nTesting Accuracy =', accuracy, '\\n')"
      ],
      "execution_count": 119,
      "outputs": [
        {
          "output_type": "stream",
          "text": [
            "Train on 50514 samples, validate on 16838 samples\n",
            "Epoch 1/20\n",
            "50514/50514 [==============================] - 87s 2ms/step - loss: 0.1104 - acc: 0.9796 - val_loss: 0.0670 - val_acc: 0.9813\n",
            "Epoch 2/20\n",
            "50514/50514 [==============================] - 85s 2ms/step - loss: 0.0522 - acc: 0.9811 - val_loss: 0.0337 - val_acc: 0.9840\n",
            "Epoch 3/20\n",
            "50514/50514 [==============================] - 85s 2ms/step - loss: 0.0286 - acc: 0.9869 - val_loss: 0.0237 - val_acc: 0.9888\n",
            "Epoch 4/20\n",
            "50514/50514 [==============================] - 84s 2ms/step - loss: 0.0233 - acc: 0.9892 - val_loss: 0.0214 - val_acc: 0.9901\n",
            "Epoch 5/20\n",
            "50514/50514 [==============================] - 84s 2ms/step - loss: 0.0215 - acc: 0.9899 - val_loss: 0.0209 - val_acc: 0.9898\n",
            "Epoch 6/20\n",
            "50514/50514 [==============================] - 85s 2ms/step - loss: 0.0202 - acc: 0.9904 - val_loss: 0.0200 - val_acc: 0.9912\n",
            "Epoch 7/20\n",
            "50514/50514 [==============================] - 84s 2ms/step - loss: 0.0194 - acc: 0.9912 - val_loss: 0.0192 - val_acc: 0.9913\n",
            "Epoch 8/20\n",
            "50514/50514 [==============================] - 83s 2ms/step - loss: 0.0183 - acc: 0.9915 - val_loss: 0.0200 - val_acc: 0.9911\n",
            "Epoch 9/20\n",
            "50514/50514 [==============================] - 83s 2ms/step - loss: 0.0175 - acc: 0.9921 - val_loss: 0.0187 - val_acc: 0.9911\n",
            "Epoch 10/20\n",
            "50514/50514 [==============================] - 86s 2ms/step - loss: 0.0168 - acc: 0.9923 - val_loss: 0.0186 - val_acc: 0.9912\n",
            "Epoch 11/20\n",
            "50514/50514 [==============================] - 84s 2ms/step - loss: 0.0163 - acc: 0.9929 - val_loss: 0.0184 - val_acc: 0.9920\n",
            "Epoch 12/20\n",
            "50514/50514 [==============================] - 83s 2ms/step - loss: 0.0156 - acc: 0.9934 - val_loss: 0.0189 - val_acc: 0.9915\n",
            "Epoch 13/20\n",
            "50514/50514 [==============================] - 85s 2ms/step - loss: 0.0151 - acc: 0.9935 - val_loss: 0.0186 - val_acc: 0.9923\n",
            "50514/50514 [==============================] - 24s 468us/step\n",
            "\n",
            "Training Accuracy =  0.9940808488735796 \n",
            "\n",
            "16838/16838 [==============================] - 8s 489us/step\n",
            "\n",
            "Testing Accuracy = 0.9922793680959734 \n",
            "\n"
          ],
          "name": "stdout"
        }
      ]
    },
    {
      "metadata": {
        "id": "bhW_EiD5Xnts",
        "colab_type": "code",
        "colab": {
          "base_uri": "https://localhost:8080/",
          "height": 50
        },
        "outputId": "135396c5-307e-4383-9666-d90e616d4750"
      },
      "cell_type": "code",
      "source": [
        "test_url(test_url_mal,model2)\n",
        "test_url(test_url_benign,model2)"
      ],
      "execution_count": 120,
      "outputs": [
        {
          "output_type": "stream",
          "text": [
            "Test URL: .btscene2.com is malicious\n",
            "Test URL: www.yahoo.com is benign\n"
          ],
          "name": "stdout"
        }
      ]
    },
    {
      "metadata": {
        "id": "07DjXez1iTQn",
        "colab_type": "text"
      },
      "cell_type": "markdown",
      "source": [
        "The CNN+LSTM model's accuracy is higher than the previous one."
      ]
    },
    {
      "metadata": {
        "id": "Sf_5YKiFyuQh",
        "colab_type": "text"
      },
      "cell_type": "markdown",
      "source": [
        "### Comparison"
      ]
    },
    {
      "metadata": {
        "id": "wIZl_to4ywIe",
        "colab_type": "code",
        "colab": {
          "base_uri": "https://localhost:8080/",
          "height": 314
        },
        "outputId": "8717e555-9f21-46fe-8043-26b28da3af4d"
      },
      "cell_type": "code",
      "source": [
        "acc = history1.history['acc']\n",
        "val_acc = history1.history['val_acc']\n",
        "loss = history1.history['loss']\n",
        "val_loss = history1.history['val_loss']\n",
        "\n",
        "# Plotting the data \n",
        "\n",
        "# Training + Valdiation Accuracy\n",
        "epochs = range(1,len(acc) + 1)\n",
        "plt.plot( epochs, acc, 'bo', label = 'Training Accuracy')\n",
        "plt.plot( epochs, val_acc, 'b', label = 'VAlidation Accuracy')\n",
        "plt.title('Training and validation accuracy (BI_RNN)')\n",
        "plt.legend()\n",
        "plt.figure()"
      ],
      "execution_count": 115,
      "outputs": [
        {
          "output_type": "execute_result",
          "data": {
            "text/plain": [
              "<matplotlib.figure.Figure at 0x7f3479066198>"
            ]
          },
          "metadata": {
            "tags": []
          },
          "execution_count": 115
        },
        {
          "output_type": "display_data",
          "data": {
            "image/png": "[encoded data removed]",
            "text/plain": [
              "<matplotlib.figure.Figure at 0x7f347906b588>"
            ]
          },
          "metadata": {
            "tags": []
          }
        },
        {
          "output_type": "display_data",
          "data": {
            "text/plain": [
              "<matplotlib.figure.Figure at 0x7f3479066198>"
            ]
          },
          "metadata": {
            "tags": []
          }
        }
      ]
    },
    {
      "metadata": {
        "id": "fkcORjUOD__I",
        "colab_type": "code",
        "colab": {
          "base_uri": "https://localhost:8080/",
          "height": 314
        },
        "outputId": "6c2db7bc-c073-4f8e-c85c-d828b79bb618"
      },
      "cell_type": "code",
      "source": [
        "acc = history2.history['acc']\n",
        "val_acc = history2.history['val_acc']\n",
        "loss = history2.history['loss']\n",
        "val_loss = history2.history['val_loss']\n",
        "\n",
        "# Plotting the data \n",
        "\n",
        "# Training + Valdiation Accuracy\n",
        "epochs = range(1,len(acc) + 1)\n",
        "plt.plot( epochs, acc, 'bo', label = 'Training Accuracy')\n",
        "plt.plot( epochs, val_acc, 'b', label = 'VAlidation Accuracy')\n",
        "plt.title('Training and validation accuracy (CNN_LSTM)')\n",
        "plt.legend()\n",
        "plt.figure()"
      ],
      "execution_count": 122,
      "outputs": [
        {
          "output_type": "execute_result",
          "data": {
            "text/plain": [
              "<matplotlib.figure.Figure at 0x7f346e56dfd0>"
            ]
          },
          "metadata": {
            "tags": []
          },
          "execution_count": 122
        },
        {
          "output_type": "display_data",
          "data": {
            "image/png": "[encoded data removed]",
            "text/plain": [
              "<matplotlib.figure.Figure at 0x7f346e5b0d68>"
            ]
          },
          "metadata": {
            "tags": []
          }
        },
        {
          "output_type": "display_data",
          "data": {
            "text/plain": [
              "<matplotlib.figure.Figure at 0x7f346e56dfd0>"
            ]
          },
          "metadata": {
            "tags": []
          }
        }
      ]
    },
    {
      "metadata": {
        "id": "vRqk-tNyEt6-",
        "colab_type": "text"
      },
      "cell_type": "markdown",
      "source": [
        "From these graphs, we can show that the overall performance of CNN_LSTM is better than the BI_RNN. Moreover, the decrease in loss is more stable for CNN_LSTM. However, it takes more epochs to coverage."
      ]
    },
    {
      "metadata": {
        "id": "6ZVhjdCwG9Ui",
        "colab_type": "text"
      },
      "cell_type": "markdown",
      "source": [
        "## Reference\n",
        "\n",
        "1. Chollet, F. (2017).* Deep learning with python.* Manning Publications Co..\n",
        "2. Melissa K. (2017). *Featureless Deep Learning for Detection of Malicious URLs. *https://github.com/incertum/cyber-matrix-ai/tree/master/Malicious-URL-Detection-Deep-Learning"
      ]
    }
  ]
}